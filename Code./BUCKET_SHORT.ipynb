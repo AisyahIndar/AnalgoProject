{
  "nbformat": 4,
  "nbformat_minor": 0,
  "metadata": {
    "colab": {
      "provenance": []
    },
    "kernelspec": {
      "name": "python3",
      "display_name": "Python 3"
    },
    "language_info": {
      "name": "python"
    }
  },
  "cells": [
    {
      "cell_type": "code",
      "execution_count": 10,
      "metadata": {
        "colab": {
          "base_uri": "https://localhost:8080/"
        },
        "id": "9dll9VEl0Qsp",
        "outputId": "cbd7e8b0-14e2-4a31-d604-6dd0ad2226e5"
      },
      "outputs": [
        {
          "output_type": "stream",
          "name": "stdout",
          "text": [
            "📌 Data diurutkan berdasarkan ID Transaksi:\n",
            "\n",
            "+-----------+-----------------------------+---------------------+--------------------+-----------------+----------------+---------------+\n",
            "| ID        | Nama_Pelanggan              | Tanggal_Pembelian   |   Jumlah_Pembelian | Kategori_Buku   |   Harga_Satuan |   Total_Harga |\n",
            "|-----------+-----------------------------+---------------------+--------------------+-----------------+----------------+---------------|\n",
            "| TRX000001 | Tira Palastri, S.Kom        | 2025-04-14          |                  6 | Non-Fiksi       |          60000 |        360000 |\n",
            "| TRX000002 | Elvina Dongoran             | 2024-10-27          |                 18 | Komik           |          40000 |        720000 |\n",
            "| TRX000003 | Cut Vicky Utami             | 2024-11-03          |                 19 | Biografi        |          55000 |       1045000 |\n",
            "| TRX000004 | drg. Mumpuni Lazuardi, S.T. | 2025-02-02          |                 10 | Fiksi           |          50000 |        500000 |\n",
            "| TRX000005 | Ganep Zulaika               | 2024-08-29          |                  3 | Biografi        |          55000 |        165000 |\n",
            "| TRX000006 | T. Prayoga Nurdiyanti, S.IP | 2025-04-27          |                 14 | Biografi        |          55000 |        770000 |\n",
            "| TRX000007 | Vera Marbun                 | 2024-07-06          |                  4 | Non-Fiksi       |          60000 |        240000 |\n",
            "| TRX000008 | Karma Jailani               | 2024-07-02          |                 10 | Pelajaran       |          75000 |        750000 |\n",
            "| TRX000009 | Daryani Zulkarnain          | 2024-07-28          |                  4 | Fiksi           |          50000 |        200000 |\n",
            "| TRX000010 | Nilam Budiyanto             | 2024-09-20          |                  8 | Komik           |          40000 |        320000 |\n",
            "+-----------+-----------------------------+---------------------+--------------------+-----------------+----------------+---------------+\n",
            "\n",
            "Waktu eksekusi: 0.003589 detik\n",
            "\n",
            "📌 Data diurutkan berdasarkan Nama Pelanggan:\n",
            "\n",
            "+-----------+--------------------------+---------------------+--------------------+-----------------+----------------+---------------+\n",
            "| ID        | Nama_Pelanggan           | Tanggal_Pembelian   |   Jumlah_Pembelian | Kategori_Buku   |   Harga_Satuan |   Total_Harga |\n",
            "|-----------+--------------------------+---------------------+--------------------+-----------------+----------------+---------------|\n",
            "| TRX004227 | Abyasa Firgantoro, S.Sos | 2024-12-09          |                 13 | Fiksi           |          50000 |        650000 |\n",
            "| TRX003516 | Abyasa Habibi            | 2024-06-13          |                 17 | Fiksi           |          50000 |        850000 |\n",
            "| TRX002845 | Abyasa Lazuardi          | 2024-08-25          |                  1 | Biografi        |          55000 |         55000 |\n",
            "| TRX004844 | Abyasa Prasetyo          | 2025-02-05          |                 11 | Non-Fiksi       |          60000 |        660000 |\n",
            "| TRX009062 | Abyasa Purwanti          | 2024-12-08          |                  4 | Fiksi           |          50000 |        200000 |\n",
            "| TRX001520 | Abyasa Wibowo            | 2024-09-18          |                  2 | Fiksi           |          50000 |        100000 |\n",
            "| TRX003090 | Abyasa Yulianti          | 2024-09-02          |                  3 | Biografi        |          55000 |        165000 |\n",
            "| TRX008981 | Ade Aryani               | 2024-08-20          |                 14 | Pelajaran       |          75000 |       1050000 |\n",
            "| TRX008333 | Ade Aryani               | 2025-02-17          |                 12 | Pelajaran       |          75000 |        900000 |\n",
            "| TRX000437 | Ade Astuti               | 2024-06-16          |                  4 | Pelajaran       |          75000 |        300000 |\n",
            "+-----------+--------------------------+---------------------+--------------------+-----------------+----------------+---------------+\n",
            "\n",
            "Waktu eksekusi: 0.015543 detik\n",
            "\n",
            "📌 Data diurutkan berdasarkan Total Pembelian (terbesar):\n",
            "\n",
            "+-----------+------------------------+---------------------+--------------------+-----------------+----------------+---------------+\n",
            "| ID        | Nama_Pelanggan         | Tanggal_Pembelian   |   Jumlah_Pembelian | Kategori_Buku   |   Harga_Satuan |   Total_Harga |\n",
            "|-----------+------------------------+---------------------+--------------------+-----------------+----------------+---------------|\n",
            "| TRX008176 | Janet Nainggolan       | 2024-10-24          |                 20 | Pelajaran       |          75000 |       1500000 |\n",
            "| TRX004376 | Mahesa Tarihoran       | 2024-09-11          |                 20 | Pelajaran       |          75000 |       1500000 |\n",
            "| TRX005297 | Karsa Samosir          | 2024-12-26          |                 20 | Pelajaran       |          75000 |       1500000 |\n",
            "| TRX008895 | Qori Prabowo           | 2024-06-03          |                 20 | Pelajaran       |          75000 |       1500000 |\n",
            "| TRX005017 | Drs. Oman Astuti       | 2024-12-13          |                 20 | Pelajaran       |          75000 |       1500000 |\n",
            "| TRX009654 | Rahmi Firmansyah       | 2025-02-10          |                 20 | Pelajaran       |          75000 |       1500000 |\n",
            "| TRX001487 | Tina Mustofa, M.Kom.   | 2025-01-11          |                 20 | Pelajaran       |          75000 |       1500000 |\n",
            "| TRX004934 | Marsudi Utami          | 2024-09-21          |                 20 | Pelajaran       |          75000 |       1500000 |\n",
            "| TRX008054 | Perkasa Wahyuni, S.E.I | 2025-02-05          |                 20 | Pelajaran       |          75000 |       1500000 |\n",
            "| TRX004131 | Tgk. Jindra Uwais      | 2025-04-24          |                 20 | Pelajaran       |          75000 |       1500000 |\n",
            "+-----------+------------------------+---------------------+--------------------+-----------------+----------------+---------------+\n",
            "\n",
            "Waktu eksekusi: 0.003586 detik\n"
          ]
        }
      ],
      "source": [
        "import pandas as pd\n",
        "import re\n",
        "import time\n",
        "from tabulate import tabulate\n",
        "\n",
        "# Load data\n",
        "data = pd.read_csv('/content/Dataset Penjualan Buku.csv')\n",
        "\n",
        "# Ambil kolom relevan dan hilangkan NaN\n",
        "transactions = data[['ID', 'Nama_Pelanggan', 'Tanggal_Pembelian', 'Jumlah_Pembelian','Kategori_Buku', 'Harga_Satuan', 'Total_Harga']].dropna()\n",
        "\n",
        "# Ekstrak angka dari ID\n",
        "def extract_numeric_id(tx_id):\n",
        "    match = re.search(r'(\\d+)', str(tx_id))\n",
        "    return int(match.group(1)) if match else 0\n",
        "\n",
        "# Tambahkan kolom ID Numerik\n",
        "transactions['ID_Numerik'] = transactions['ID'].apply(extract_numeric_id)\n",
        "\n",
        "# --- 1. Urut berdasarkan ID Transaksi ---\n",
        "start_id = time.time()\n",
        "sorted_by_id = transactions.sort_values(by='ID_Numerik').head(10)\n",
        "end_id = time.time()\n",
        "print(\"📌 Data diurutkan berdasarkan ID Transaksi:\\n\")\n",
        "print(tabulate(\n",
        "    sorted_by_id[['ID', 'Nama_Pelanggan', 'Tanggal_Pembelian', 'Jumlah_Pembelian','Kategori_Buku', 'Harga_Satuan', 'Total_Harga']],\n",
        "    headers='keys',\n",
        "    tablefmt='psql',\n",
        "    showindex=False\n",
        "))\n",
        "print(f\"\\nWaktu eksekusi: {end_id - start_id:.6f} detik\\n\")\n",
        "\n",
        "# --- 2. Urut berdasarkan Nama Pelanggan ---\n",
        "start_name = time.time()\n",
        "sorted_by_name = transactions.sort_values(by='Nama_Pelanggan').head(10)\n",
        "end_name = time.time()\n",
        "print(\"📌 Data diurutkan berdasarkan Nama Pelanggan:\\n\")\n",
        "print(tabulate(\n",
        "    sorted_by_name[['ID', 'Nama_Pelanggan', 'Tanggal_Pembelian', 'Jumlah_Pembelian','Kategori_Buku', 'Harga_Satuan', 'Total_Harga']],\n",
        "    headers='keys',\n",
        "    tablefmt='psql',\n",
        "    showindex=False\n",
        "))\n",
        "print(f\"\\nWaktu eksekusi: {end_name - start_name:.6f} detik\\n\")\n",
        "\n",
        "# --- 3. Urut berdasarkan Total Pembelian (terbesar) ---\n",
        "start_total = time.time()\n",
        "sorted_by_total = transactions.sort_values(by='Total_Harga', ascending=False).head(10)\n",
        "end_total = time.time()\n",
        "print(\"📌 Data diurutkan berdasarkan Total Pembelian (terbesar):\\n\")\n",
        "print(tabulate(\n",
        "    sorted_by_total[['ID', 'Nama_Pelanggan', 'Tanggal_Pembelian', 'Jumlah_Pembelian','Kategori_Buku', 'Harga_Satuan', 'Total_Harga']],\n",
        "    headers='keys',\n",
        "    tablefmt='psql',\n",
        "    showindex=False\n",
        "))\n",
        "print(f\"\\nWaktu eksekusi: {end_total - start_total:.6f} detik\")\n"
      ]
    },
    {
      "cell_type": "code",
      "source": [
        "from google.colab import files\n",
        "files.download('/content/sorted_by_id.csv')\n",
        "files.download('/content/sorted_by_name.csv')\n",
        "files.download('/content/sorted_by_total.csv')"
      ],
      "metadata": {
        "colab": {
          "base_uri": "https://localhost:8080/",
          "height": 17
        },
        "id": "XgBzHOWr8MHC",
        "outputId": "da7e7009-fbcd-4401-ab04-6bdb377fd0b7"
      },
      "execution_count": 11,
      "outputs": [
        {
          "output_type": "display_data",
          "data": {
            "text/plain": [
              "<IPython.core.display.Javascript object>"
            ],
            "application/javascript": [
              "\n",
              "    async function download(id, filename, size) {\n",
              "      if (!google.colab.kernel.accessAllowed) {\n",
              "        return;\n",
              "      }\n",
              "      const div = document.createElement('div');\n",
              "      const label = document.createElement('label');\n",
              "      label.textContent = `Downloading \"${filename}\": `;\n",
              "      div.appendChild(label);\n",
              "      const progress = document.createElement('progress');\n",
              "      progress.max = size;\n",
              "      div.appendChild(progress);\n",
              "      document.body.appendChild(div);\n",
              "\n",
              "      const buffers = [];\n",
              "      let downloaded = 0;\n",
              "\n",
              "      const channel = await google.colab.kernel.comms.open(id);\n",
              "      // Send a message to notify the kernel that we're ready.\n",
              "      channel.send({})\n",
              "\n",
              "      for await (const message of channel.messages) {\n",
              "        // Send a message to notify the kernel that we're ready.\n",
              "        channel.send({})\n",
              "        if (message.buffers) {\n",
              "          for (const buffer of message.buffers) {\n",
              "            buffers.push(buffer);\n",
              "            downloaded += buffer.byteLength;\n",
              "            progress.value = downloaded;\n",
              "          }\n",
              "        }\n",
              "      }\n",
              "      const blob = new Blob(buffers, {type: 'application/binary'});\n",
              "      const a = document.createElement('a');\n",
              "      a.href = window.URL.createObjectURL(blob);\n",
              "      a.download = filename;\n",
              "      div.appendChild(a);\n",
              "      a.click();\n",
              "      div.remove();\n",
              "    }\n",
              "  "
            ]
          },
          "metadata": {}
        },
        {
          "output_type": "display_data",
          "data": {
            "text/plain": [
              "<IPython.core.display.Javascript object>"
            ],
            "application/javascript": [
              "download(\"download_b95ba5af-a83e-4c3c-a084-0ae83a960427\", \"sorted_by_id.csv\", 518028)"
            ]
          },
          "metadata": {}
        },
        {
          "output_type": "display_data",
          "data": {
            "text/plain": [
              "<IPython.core.display.Javascript object>"
            ],
            "application/javascript": [
              "\n",
              "    async function download(id, filename, size) {\n",
              "      if (!google.colab.kernel.accessAllowed) {\n",
              "        return;\n",
              "      }\n",
              "      const div = document.createElement('div');\n",
              "      const label = document.createElement('label');\n",
              "      label.textContent = `Downloading \"${filename}\": `;\n",
              "      div.appendChild(label);\n",
              "      const progress = document.createElement('progress');\n",
              "      progress.max = size;\n",
              "      div.appendChild(progress);\n",
              "      document.body.appendChild(div);\n",
              "\n",
              "      const buffers = [];\n",
              "      let downloaded = 0;\n",
              "\n",
              "      const channel = await google.colab.kernel.comms.open(id);\n",
              "      // Send a message to notify the kernel that we're ready.\n",
              "      channel.send({})\n",
              "\n",
              "      for await (const message of channel.messages) {\n",
              "        // Send a message to notify the kernel that we're ready.\n",
              "        channel.send({})\n",
              "        if (message.buffers) {\n",
              "          for (const buffer of message.buffers) {\n",
              "            buffers.push(buffer);\n",
              "            downloaded += buffer.byteLength;\n",
              "            progress.value = downloaded;\n",
              "          }\n",
              "        }\n",
              "      }\n",
              "      const blob = new Blob(buffers, {type: 'application/binary'});\n",
              "      const a = document.createElement('a');\n",
              "      a.href = window.URL.createObjectURL(blob);\n",
              "      a.download = filename;\n",
              "      div.appendChild(a);\n",
              "      a.click();\n",
              "      div.remove();\n",
              "    }\n",
              "  "
            ]
          },
          "metadata": {}
        },
        {
          "output_type": "display_data",
          "data": {
            "text/plain": [
              "<IPython.core.display.Javascript object>"
            ],
            "application/javascript": [
              "download(\"download_0466e879-d3f1-4667-98fb-26719f3e2f8b\", \"sorted_by_name.csv\", 518028)"
            ]
          },
          "metadata": {}
        },
        {
          "output_type": "display_data",
          "data": {
            "text/plain": [
              "<IPython.core.display.Javascript object>"
            ],
            "application/javascript": [
              "\n",
              "    async function download(id, filename, size) {\n",
              "      if (!google.colab.kernel.accessAllowed) {\n",
              "        return;\n",
              "      }\n",
              "      const div = document.createElement('div');\n",
              "      const label = document.createElement('label');\n",
              "      label.textContent = `Downloading \"${filename}\": `;\n",
              "      div.appendChild(label);\n",
              "      const progress = document.createElement('progress');\n",
              "      progress.max = size;\n",
              "      div.appendChild(progress);\n",
              "      document.body.appendChild(div);\n",
              "\n",
              "      const buffers = [];\n",
              "      let downloaded = 0;\n",
              "\n",
              "      const channel = await google.colab.kernel.comms.open(id);\n",
              "      // Send a message to notify the kernel that we're ready.\n",
              "      channel.send({})\n",
              "\n",
              "      for await (const message of channel.messages) {\n",
              "        // Send a message to notify the kernel that we're ready.\n",
              "        channel.send({})\n",
              "        if (message.buffers) {\n",
              "          for (const buffer of message.buffers) {\n",
              "            buffers.push(buffer);\n",
              "            downloaded += buffer.byteLength;\n",
              "            progress.value = downloaded;\n",
              "          }\n",
              "        }\n",
              "      }\n",
              "      const blob = new Blob(buffers, {type: 'application/binary'});\n",
              "      const a = document.createElement('a');\n",
              "      a.href = window.URL.createObjectURL(blob);\n",
              "      a.download = filename;\n",
              "      div.appendChild(a);\n",
              "      a.click();\n",
              "      div.remove();\n",
              "    }\n",
              "  "
            ]
          },
          "metadata": {}
        },
        {
          "output_type": "display_data",
          "data": {
            "text/plain": [
              "<IPython.core.display.Javascript object>"
            ],
            "application/javascript": [
              "download(\"download_bed82f58-40ae-485d-b2f6-4082be9607ab\", \"sorted_by_total.csv\", 518028)"
            ]
          },
          "metadata": {}
        }
      ]
    }
  ]
}