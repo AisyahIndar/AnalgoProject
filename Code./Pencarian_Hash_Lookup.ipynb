{
  "nbformat": 4,
  "nbformat_minor": 0,
  "metadata": {
    "colab": {
      "provenance": []
    },
    "kernelspec": {
      "name": "python3",
      "display_name": "Python 3"
    },
    "language_info": {
      "name": "python"
    }
  },
  "cells": [
    {
      "cell_type": "code",
      "source": [
        "import csv\n",
        "from datetime import datetime, timedelta\n",
        "from collections import defaultdict\n",
        "import time\n",
        "from tabulate import tabulate\n"
      ],
      "metadata": {
        "id": "8fb_3R73mD_L"
      },
      "execution_count": 1,
      "outputs": []
    },
    {
      "cell_type": "code",
      "source": [
        "# Load dan strukturkan data\n",
        "def load_data(filename):\n",
        "    transactions_by_id = {}\n",
        "    transactions_by_customer = defaultdict(list)\n",
        "    all_transactions = []\n",
        "\n",
        "    with open(filename, newline='', encoding='utf-8') as csvfile:\n",
        "        reader = csv.DictReader(csvfile)\n",
        "        for row in reader:\n",
        "            row['Total_Harga'] = float(row['Total_Harga'])\n",
        "            row['Tanggal_Pembelian'] = datetime.strptime(row['Tanggal_Pembelian'], '%Y-%m-%d')\n",
        "            transactions_by_id[row['ID']] = row\n",
        "            transactions_by_customer[row['Nama_Pelanggan']].append(row)\n",
        "            all_transactions.append(row)\n",
        "    return transactions_by_id, transactions_by_customer, all_transactions"
      ],
      "metadata": {
        "id": "Y9uAzX9omF4z"
      },
      "execution_count": 2,
      "outputs": []
    },
    {
      "cell_type": "code",
      "source": [
        "# Format hasil sebagai tabel\n",
        "def display_table(data):\n",
        "    def format_val(val):\n",
        "        if isinstance(val, (int, float)):\n",
        "            return f\"{val:,.0f}\"\n",
        "        if isinstance(val, datetime):\n",
        "            return val.strftime('%Y-%m-%d')\n",
        "        return val\n",
        "\n",
        "    if isinstance(data, dict):\n",
        "        formatted = {k: format_val(v) for k, v in data.items()}\n",
        "        print(tabulate([formatted.values()], headers=formatted.keys(), tablefmt=\"grid\"))\n",
        "    elif isinstance(data, list) and data:\n",
        "        headers = data[0].keys()\n",
        "        rows = [[format_val(v) for v in d.values()] for d in data]\n",
        "        print(tabulate(rows, headers=headers, tablefmt=\"grid\"))\n",
        "    else:\n",
        "        print(\"Tidak ada data untuk ditampilkan.\")"
      ],
      "metadata": {
        "id": "HKsortmimIVZ"
      },
      "execution_count": 3,
      "outputs": []
    },
    {
      "cell_type": "code",
      "source": [
        "# Fungsi pencarian\n",
        "\n",
        "def search_by_transaction_id(data, id_transaksi):\n",
        "    return data.get(id_transaksi)\n",
        "\n",
        "def search_by_customer_name(data, nama_pelanggan):\n",
        "    return data.get(nama_pelanggan, [])\n",
        "\n",
        "def find_largest_transaction_last_month(all_transactions):\n",
        "    one_month_ago = datetime.now() - timedelta(days=30)\n",
        "    recent = [t for t in all_transactions if t['Tanggal_Pembelian'] >= one_month_ago]\n",
        "    if not recent:\n",
        "        return None\n",
        "    return max(recent, key=lambda t: t['Total_Harga'])"
      ],
      "metadata": {
        "id": "JqFNMl4_mKoI"
      },
      "execution_count": 10,
      "outputs": []
    },
    {
      "cell_type": "code",
      "execution_count": 11,
      "metadata": {
        "colab": {
          "base_uri": "https://localhost:8080/"
        },
        "id": "KscApsNmeOSn",
        "outputId": "2fb524fe-5948-442c-947c-0d16b6cbf463"
      },
      "outputs": [
        {
          "output_type": "stream",
          "name": "stdout",
          "text": [
            "Pencarian berdasarkan ID Transaksi:\n",
            "+-----------+------------------+---------------------+--------------------+-----------------+----------------+---------------+\n",
            "| ID        | Nama_Pelanggan   | Tanggal_Pembelian   |   Jumlah_Pembelian | Kategori_Buku   |   Harga_Satuan | Total_Harga   |\n",
            "+===========+==================+=====================+====================+=================+================+===============+\n",
            "| TRX002268 | Endah Kurniawan  | 2025-03-17          |                  3 | Pelajaran       |          75000 | 225,000       |\n",
            "+-----------+------------------+---------------------+--------------------+-----------------+----------------+---------------+\n",
            "Waktu eksekusi: 0.000004 detik\n",
            "\n",
            "Pencarian berdasarkan Nama Pelanggan:\n",
            "+-----------+--------------------+---------------------+--------------------+-----------------+----------------+---------------+\n",
            "| ID        | Nama_Pelanggan     | Tanggal_Pembelian   |   Jumlah_Pembelian | Kategori_Buku   |   Harga_Satuan | Total_Harga   |\n",
            "+===========+====================+=====================+====================+=================+================+===============+\n",
            "| TRX007291 | drg. Siska Lestari | 2024-05-17          |                 20 | Fiksi           |          50000 | 1,000,000     |\n",
            "+-----------+--------------------+---------------------+--------------------+-----------------+----------------+---------------+\n",
            "Waktu eksekusi: 0.000003 detik\n",
            "\n",
            "Transaksi terbesar dalam 1 bulan terakhir:\n",
            "+-----------+-----------------------+---------------------+--------------------+-----------------+----------------+---------------+\n",
            "| ID        | Nama_Pelanggan        | Tanggal_Pembelian   |   Jumlah_Pembelian | Kategori_Buku   |   Harga_Satuan | Total_Harga   |\n",
            "+===========+=======================+=====================+====================+=================+================+===============+\n",
            "| TRX005905 | drg. Cinthia Latupono | 2025-04-21          |                 20 | Pelajaran       |          75000 | 1,500,000     |\n",
            "+-----------+-----------------------+---------------------+--------------------+-----------------+----------------+---------------+\n",
            "Waktu eksekusi: 0.001845 detik\n"
          ]
        }
      ],
      "source": [
        "# Eksekusi pencarian dan ukur waktu\n",
        "def main():\n",
        "    filename = '/content/Dataset Penjualan Buku.csv'\n",
        "    transactions_by_id, transactions_by_customer, all_transactions = load_data(filename)\n",
        "\n",
        "    # ID Transaksi\n",
        "    print(\"Pencarian berdasarkan ID Transaksi:\")\n",
        "    start = time.time()\n",
        "    result = search_by_transaction_id(transactions_by_id, 'TRX002268')\n",
        "    end = time.time()\n",
        "    display_table(result)\n",
        "    print(f\"Waktu eksekusi: {(end - start):.6f} detik\\n\")\n",
        "\n",
        "    # Nama Pelanggan\n",
        "    print(\"Pencarian berdasarkan Nama Pelanggan:\")\n",
        "    start = time.time()\n",
        "    result = search_by_customer_name(transactions_by_customer, 'drg. Siska Lestari')\n",
        "    end = time.time()\n",
        "    display_table(result)\n",
        "    print(f\"Waktu eksekusi: {(end - start):.6f} detik\\n\")\n",
        "\n",
        "    # Transaksi Terbesar\n",
        "    print(\"Transaksi terbesar dalam 1 bulan terakhir:\")\n",
        "    start = time.time()\n",
        "    result = find_largest_transaction_last_month(all_transactions)\n",
        "    end = time.time()\n",
        "    display_table(result)\n",
        "    print(f\"Waktu eksekusi: {(end - start):.6f} detik\")\n",
        "\n",
        "if __name__ == \"__main__\":\n",
        "    main()\n"
      ]
    }
  ]
}