{
  "nbformat": 4,
  "nbformat_minor": 0,
  "metadata": {
    "colab": {
      "provenance": []
    },
    "kernelspec": {
      "name": "python3",
      "display_name": "Python 3"
    },
    "language_info": {
      "name": "python"
    }
  },
  "cells": [
    {
      "cell_type": "code",
      "execution_count": 1,
      "metadata": {
        "colab": {
          "base_uri": "https://localhost:8080/"
        },
        "id": "Vxo-ijPm5TrT",
        "outputId": "e0777b84-a975-404b-8a5d-e6509f25d122"
      },
      "outputs": [
        {
          "output_type": "stream",
          "name": "stdout",
          "text": [
            "Mounted at /content/drive\n"
          ]
        }
      ],
      "source": [
        "import csv\n",
        "import pandas as pd\n",
        "import time\n",
        "from google.colab import drive\n",
        "drive.mount('/content/drive')\n",
        "file_path = '/content/drive/MyDrive/dataset_analgo/dataset analgo.csv'\n",
        "data = pd.read_csv(file_path)"
      ]
    },
    {
      "cell_type": "code",
      "source": [
        "def counting_sort(data, key, ascending=True):\n",
        "    if not data:\n",
        "        return []\n",
        "    if key == 'Total_Harga':\n",
        "        min_val = min(item[key] for item in data)\n",
        "        max_val = max(item[key] for item in data)\n",
        "        count_size = max_val - min_val + 1\n",
        "        count = [[] for _ in range(count_size)]\n",
        "        for item in data:\n",
        "            count[item[key] - min_val].append(item)\n",
        "        sorted_data = []\n",
        "        if ascending:\n",
        "            for i in range(count_size):\n",
        "                sorted_data.extend(count[i])\n",
        "        else:\n",
        "            for i in range(count_size-1, -1, -1):\n",
        "                sorted_data.extend(count[i])\n",
        "        return sorted_data\n",
        "\n",
        "    else:\n",
        "        unique_values = sorted(list(set(item[key] for item in data)), reverse=not ascending)\n",
        "        value_to_index = {v: i for i, v in enumerate(unique_values)}\n",
        "        count = [[] for _ in range(len(unique_values))]\n",
        "        for item in data:\n",
        "            count[value_to_index[item[key]]].append(item)\n",
        "        sorted_data = []\n",
        "        for bucket in count:\n",
        "            sorted_data.extend(bucket)\n",
        "        return sorted_data"
      ],
      "metadata": {
        "id": "7S_qPduIBC2w"
      },
      "execution_count": 8,
      "outputs": []
    },
    {
      "cell_type": "code",
      "source": [
        "def measure_sorting_time(data, key, ascending=True):\n",
        "    start_time = time.time()\n",
        "    sorted_data = counting_sort(data, key, ascending)\n",
        "    end_time = time.time()\n",
        "    execution_time = end_time - start_time\n",
        "    return sorted_data, execution_time"
      ],
      "metadata": {
        "id": "cwLJ-9FnpO9E"
      },
      "execution_count": 9,
      "outputs": []
    },
    {
      "cell_type": "code",
      "source": [
        "def display_data(data, title, limit=10):\n",
        "    print(f\"\\n{title}:\")\n",
        "    print(f\"{'ID':<10} {'Nama Pelanggan':<30} {'Tanggal Pembelian':<15} {'Jumlah':<6} {'Kategori':<10} {'Harga Satuan':<12} {'Total Harga':<12}\")\n",
        "    print(\"=\"*100)\n",
        "    for item in data[:limit]:\n",
        "        print(f\"{item['ID']:<10} {item['Nama_Pelanggan'][:28]:<30} {item['Tanggal_Pembelian']:<15} {item['Jumlah_Pembelian']:<6} {item['Kategori_Buku']:<10} {item['Harga_Satuan']:<12} {item['Total_Harga']:<12}\")"
      ],
      "metadata": {
        "id": "XXXgK9I1pnsc"
      },
      "execution_count": 10,
      "outputs": []
    },
    {
      "cell_type": "code",
      "source": [
        "sorted_by_id, time_by_id = measure_sorting_time(data_list, 'ID', ascending=True)\n",
        "display_data(sorted_by_id, \"Data diurutkan berdasarkan ID\")\n",
        "print(f\"Waktu eksekusi: {time_by_id:.6f} detik\")"
      ],
      "metadata": {
        "colab": {
          "base_uri": "https://localhost:8080/"
        },
        "id": "WgOsh_W3BelC",
        "outputId": "3e5e6396-40e2-43a2-d159-4357190ba318"
      },
      "execution_count": 11,
      "outputs": [
        {
          "output_type": "stream",
          "name": "stdout",
          "text": [
            "\n",
            "Data diurutkan berdasarkan ID:\n",
            "ID         Nama Pelanggan                 Tanggal Pembelian Jumlah Kategori   Harga Satuan Total Harga \n",
            "====================================================================================================\n",
            "TRX000001  Tira Palastri, S.Kom           4/14/2025       6      Non-Fiksi  60000        360000      \n",
            "TRX000002  Elvina Dongoran                10/27/2024      18     Komik      40000        720000      \n",
            "TRX000003  Cut Vicky Utami                11/3/2024       19     Biografi   55000        1045000     \n",
            "TRX000004  drg. Mumpuni Lazuardi, S.T.    2/2/2025        10     Fiksi      50000        500000      \n",
            "TRX000005  Ganep Zulaika                  8/29/2024       3      Biografi   55000        165000      \n",
            "TRX000006  T. Prayoga Nurdiyanti, S.IP    4/27/2025       14     Biografi   55000        770000      \n",
            "TRX000007  Vera Marbun                    7/6/2024        4      Non-Fiksi  60000        240000      \n",
            "TRX000008  Karma Jailani                  7/2/2024        10     Pelajaran  75000        750000      \n",
            "TRX000009  Daryani Zulkarnain             7/28/2024       4      Fiksi      50000        200000      \n",
            "TRX000010  Nilam Budiyanto                9/20/2024       8      Komik      40000        320000      \n",
            "Waktu eksekusi: 0.024963 detik\n"
          ]
        }
      ]
    },
    {
      "cell_type": "code",
      "source": [
        "sorted_by_name, time_by_name = measure_sorting_time(data_list, 'Nama_Pelanggan', ascending=True)\n",
        "display_data(sorted_by_name, \"Data diurutkan berdasarkan Nama Pelanggan\")\n",
        "print(f\"Waktu eksekusi: {time_by_name:.6f} detik\")"
      ],
      "metadata": {
        "colab": {
          "base_uri": "https://localhost:8080/"
        },
        "id": "JZX6G_70pf6S",
        "outputId": "a0dce03e-26b7-4f5e-a8fb-1b83f96bf4d8"
      },
      "execution_count": 13,
      "outputs": [
        {
          "output_type": "stream",
          "name": "stdout",
          "text": [
            "\n",
            "Data diurutkan berdasarkan Nama Pelanggan:\n",
            "ID         Nama Pelanggan                 Tanggal Pembelian Jumlah Kategori   Harga Satuan Total Harga \n",
            "====================================================================================================\n",
            "TRX004227  Abyasa Firgantoro, S.Sos       12/9/2024       13     Fiksi      50000        650000      \n",
            "TRX003516  Abyasa Habibi                  6/13/2024       17     Fiksi      50000        850000      \n",
            "TRX002845  Abyasa Lazuardi                8/25/2024       1      Biografi   55000        55000       \n",
            "TRX004844  Abyasa Prasetyo                2/5/2025        11     Non-Fiksi  60000        660000      \n",
            "TRX009062  Abyasa Purwanti                12/8/2024       4      Fiksi      50000        200000      \n",
            "TRX001520  Abyasa Wibowo                  9/18/2024       2      Fiksi      50000        100000      \n",
            "TRX003090  Abyasa Yulianti                9/2/2024        3      Biografi   55000        165000      \n",
            "TRX008333  Ade Aryani                     2/17/2025       12     Pelajaran  75000        900000      \n",
            "TRX008981  Ade Aryani                     8/20/2024       14     Pelajaran  75000        1050000     \n",
            "TRX000437  Ade Astuti                     6/16/2024       4      Pelajaran  75000        300000      \n",
            "Waktu eksekusi: 0.014658 detik\n"
          ]
        }
      ]
    },
    {
      "cell_type": "code",
      "source": [
        "sorted_by_total_desc, time_by_total_desc = measure_sorting_time(data_list, 'Total_Harga', ascending=False)\n",
        "display_data(sorted_by_total_desc, \"Data diurutkan berdasarkan Total Transaksi (terbesar ke terkecil)\")\n",
        "print(f\"Waktu eksekusi: {time_by_total_desc:.6f} detik\")"
      ],
      "metadata": {
        "colab": {
          "base_uri": "https://localhost:8080/"
        },
        "id": "pjzfBE-aqrSV",
        "outputId": "e88a7ffd-5c06-462b-c8f8-5e5efd52d01f"
      },
      "execution_count": 14,
      "outputs": [
        {
          "output_type": "stream",
          "name": "stdout",
          "text": [
            "\n",
            "Data diurutkan berdasarkan Total Transaksi (terbesar ke terkecil):\n",
            "ID         Nama Pelanggan                 Tanggal Pembelian Jumlah Kategori   Harga Satuan Total Harga \n",
            "====================================================================================================\n",
            "TRX000094  Hesti Marpaung, M.M.           9/30/2024       20     Pelajaran  75000        1500000     \n",
            "TRX001693  drg. Jelita Sihotang           6/3/2024        20     Pelajaran  75000        1500000     \n",
            "TRX004565  Mursinin Sihombing             1/13/2025       20     Pelajaran  75000        1500000     \n",
            "TRX008176  Janet Nainggolan               10/24/2024      20     Pelajaran  75000        1500000     \n",
            "TRX008054  Perkasa Wahyuni, S.E.I         2/5/2025        20     Pelajaran  75000        1500000     \n",
            "TRX005905  drg. Cinthia Latupono          4/21/2025       20     Pelajaran  75000        1500000     \n",
            "TRX001202  R.A. Yani Aryani               4/25/2025       20     Pelajaran  75000        1500000     \n",
            "TRX009685  Suci Agustina, S.Pd            9/28/2024       20     Pelajaran  75000        1500000     \n",
            "TRX008827  Hilda Latupono                 6/28/2024       20     Pelajaran  75000        1500000     \n",
            "TRX005242  KH. Labuh Permata, S.H.        7/26/2024       20     Pelajaran  75000        1500000     \n",
            "Waktu eksekusi: 1.311954 detik\n"
          ]
        }
      ]
    },
    {
      "cell_type": "code",
      "source": [
        "def save_to_csv(data, filename):\n",
        "    with open(filename, 'w', newline='') as csvfile:\n",
        "        fieldnames = ['ID', 'Nama_Pelanggan', 'Tanggal_Pembelian', 'Jumlah_Pembelian',\n",
        "                     'Kategori_Buku', 'Harga_Satuan', 'Total_Harga']\n",
        "        writer = csv.DictWriter(csvfile, fieldnames=fieldnames)\n",
        "\n",
        "        writer.writeheader()\n",
        "        for item in data:\n",
        "            writer.writerow(item)\n",
        "\n",
        "    print(f\"Data berhasil disimpan ke {filename}\")\n",
        "\n",
        "# Menyimpan semua hasil pengurutan ke file CSV\n",
        "save_to_csv(sorted_by_id, \"sorted_by_id.csv\")\n",
        "save_to_csv(sorted_by_name, \"sorted_by_name.csv\")\n",
        "save_to_csv(sorted_by_total_desc, \"sorted_by_total_desc.csv\")"
      ],
      "metadata": {
        "colab": {
          "base_uri": "https://localhost:8080/"
        },
        "id": "P_Unt48aBsZZ",
        "outputId": "3097c271-4454-462a-a875-32c0594d9b09"
      },
      "execution_count": 16,
      "outputs": [
        {
          "output_type": "stream",
          "name": "stdout",
          "text": [
            "Data berhasil disimpan ke sorted_by_id.csv\n",
            "Data berhasil disimpan ke sorted_by_name.csv\n",
            "Data berhasil disimpan ke sorted_by_total_desc.csv\n"
          ]
        }
      ]
    }
  ]
}